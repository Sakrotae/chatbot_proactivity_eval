{
 "cells": [
  {
   "cell_type": "code",
   "execution_count": 3,
   "metadata": {},
   "outputs": [],
   "source": [
    "import requests\n",
    "from typing import List, Dict, Any"
   ]
  },
  {
   "cell_type": "code",
   "execution_count": 15,
   "metadata": {},
   "outputs": [],
   "source": [
    "def format_messages(chat_history: List[Dict[str, str]]) -> List[Dict[str, str]]:\n",
    "        system_prompt = \"Be humble.\"\n",
    "        return [\n",
    "            {\"role\": \"system\", \"content\": system_prompt},\n",
    "            *chat_history\n",
    "        ]\n",
    "    \n",
    "def create_payload( messages: List[Dict[str, str]]) -> Dict[str, Any]:\n",
    "    base_config = {\n",
    "        \"messages\": messages,\n",
    "        \"stream\": False,\n",
    "        \"resp_format\": \"json\",\n",
    "        \"model\": \"deepseek-r1:8b\",\n",
    "        \"provider\": \"ollama\",\n",
    "        \"options\": {\n",
    "            \"temperature\": 0.5, \n",
    "            \"max_new_tokens\": 4096,\n",
    "            \"top_p\": 0.95,\n",
    "            \"top_k\": 50, \n",
    "        }\n",
    "    }\n",
    "        \n",
    "    return base_config"
   ]
  },
  {
   "cell_type": "code",
   "execution_count": 17,
   "metadata": {},
   "outputs": [
    {
     "name": "stdout",
     "output_type": "stream",
     "text": [
      "Hello! It seems like you're suggesting we should be humble. If there's something specific you'd like me to address or if you have any questions, feel free to let me know! How can I assist you today?\n"
     ]
    }
   ],
   "source": [
    "api_url = \"http://137.250.171.154:11434/api/chat\"\n",
    "\n",
    "messages = format_messages([{\"role\": \"user\", \"content\": \"Hello\"}])\n",
    "payload = create_payload(messages)\n",
    "headers = {\"Content-Type\": \"application/json\"}\n",
    "\n",
    "response = requests.post(\n",
    "    api_url,\n",
    "    json=payload,\n",
    "    headers=headers,\n",
    "    timeout=30\n",
    ")\n",
    "\n",
    "if response.status_code == 200:\n",
    "    data = response.json()\n",
    "    response_content = data[\"message\"][\"content\"].split(\"</think>\")[1].strip()\n",
    "    print(response_content)\n",
    "else:\n",
    "    print(\"Error:\", response.status_code)\n",
    "    print(response.text)"
   ]
  }
 ],
 "metadata": {
  "kernelspec": {
   "display_name": "Python 3",
   "language": "python",
   "name": "python3"
  },
  "language_info": {
   "codemirror_mode": {
    "name": "ipython",
    "version": 3
   },
   "file_extension": ".py",
   "mimetype": "text/x-python",
   "name": "python",
   "nbconvert_exporter": "python",
   "pygments_lexer": "ipython3",
   "version": "3.10.4"
  }
 },
 "nbformat": 4,
 "nbformat_minor": 2
}
